{
 "cells": [
  {
   "cell_type": "code",
   "execution_count": 1,
   "id": "304c3b01-e194-49e3-8252-408e50636bbe",
   "metadata": {},
   "outputs": [],
   "source": [
    "# Load libraries\n",
    "\n",
    "import pandas as pd\n",
    "import re\n",
    "\n",
    "from olclient.openlibrary import OpenLibrary\n",
    "ol = OpenLibrary()"
   ]
  },
  {
   "cell_type": "code",
   "execution_count": 2,
   "id": "c45b8c17-43c2-4845-acc7-006b5cecb2fa",
   "metadata": {},
   "outputs": [],
   "source": [
    "# Example book search using title and author\n",
    "\n",
    "temp_book = ol.Work.search(title='The Widows of Malabar Hill', author='Sujata Massey')"
   ]
  },
  {
   "cell_type": "code",
   "execution_count": 3,
   "id": "263fcff8-591d-49df-8e73-626f6f84686d",
   "metadata": {},
   "outputs": [
    {
     "data": {
      "text/plain": [
       "'The Widows of Malabar Hill'"
      ]
     },
     "execution_count": 3,
     "metadata": {},
     "output_type": "execute_result"
    }
   ],
   "source": [
    "# Attributes of search \"object\"\n",
    "\n",
    "temp_book.title"
   ]
  },
  {
   "cell_type": "code",
   "execution_count": 4,
   "id": "60fa997e-a38a-42b2-bd3d-f3ebce9253c9",
   "metadata": {},
   "outputs": [
    {
     "data": {
      "text/plain": [
       "{'olid': ['OL19729016W'],\n",
       " 'isbns': [],\n",
       " 'oclc': ['1004663337', '983148226'],\n",
       " 'lccn': ['2017021391'],\n",
       " 'goodreads': [],\n",
       " 'librarything': []}"
      ]
     },
     "execution_count": 4,
     "metadata": {},
     "output_type": "execute_result"
    }
   ],
   "source": [
    "# OL19729016W is the book's Open Library ID\n",
    "\n",
    "temp_book.identifiers"
   ]
  },
  {
   "cell_type": "code",
   "execution_count": 5,
   "id": "97d6ccdc-6f18-4c32-bc69-ab94c5f1ce0b",
   "metadata": {},
   "outputs": [
    {
     "data": {
      "text/plain": [
       "[{'name': 'Sujata Massey', 'olid': 'OL39452A'}]"
      ]
     },
     "execution_count": 5,
     "metadata": {},
     "output_type": "execute_result"
    }
   ],
   "source": [
    "# OL39452A is the author's Open Library ID\n",
    "\n",
    "temp_book.authors"
   ]
  },
  {
   "cell_type": "code",
   "execution_count": 6,
   "id": "46cc0bb3-276f-4600-a0fa-8528c4ab3903",
   "metadata": {},
   "outputs": [],
   "source": [
    "# Use book's Open Library ID to access all available information\n",
    "\n",
    "temp_book_record = ol.Work.get('OL19729016W')"
   ]
  },
  {
   "cell_type": "code",
   "execution_count": 7,
   "id": "a59f2410-f7a4-463a-8935-aef90f6ebd1e",
   "metadata": {},
   "outputs": [
    {
     "data": {
      "text/plain": [
       "['Detective and mystery stories',\n",
       " 'Women lawyers',\n",
       " 'Fiction',\n",
       " 'Fiction, mystery & detective, historical',\n",
       " 'Fiction, legal',\n",
       " 'Widows, fiction',\n",
       " 'Historical fiction',\n",
       " 'Mystery & Detective',\n",
       " 'Traditional British',\n",
       " 'Historical']"
      ]
     },
     "execution_count": 7,
     "metadata": {},
     "output_type": "execute_result"
    }
   ],
   "source": [
    "# Book information includes a list of subjects\n",
    "\n",
    "temp_book_record.subjects"
   ]
  },
  {
   "cell_type": "code",
   "execution_count": 8,
   "id": "1c3605ed-18ae-44a0-9fab-1e38f24ab039",
   "metadata": {},
   "outputs": [
    {
     "data": {
      "text/plain": [
       "['India', 'Mumbai (India)']"
      ]
     },
     "execution_count": 8,
     "metadata": {},
     "output_type": "execute_result"
    }
   ],
   "source": [
    "# Book information includes a list of places/settings\n",
    "\n",
    "temp_book_record.subject_places"
   ]
  },
  {
   "cell_type": "code",
   "execution_count": 9,
   "id": "6fc3dd60-eb46-4eb5-9644-62bc927f16f8",
   "metadata": {},
   "outputs": [
    {
     "name": "stdout",
     "output_type": "stream",
     "text": [
      "<class 'olclient.entity_helpers.work.get_work_helper_class.<locals>.Work' {'identifiers': {}, 'olid': 'OL19729016W', '_editions': [], 'description': '\"Introducing an extraordinary female lawyer-sleuth in a new historical series set in 1920s Bombay. Perveen Mistry, the daughter of a respected Zoroastrian family, has just joined her father\\'s law firm, becoming one of the first female lawyers in India. Armed with a law degree from Oxford, Perveen also has a tragic personal history that makes her especially devoted to championing and protecting women\\'s legal rights. Mistry Law has been appointed to execute the will of Mr. Omar Farid, a wealthy Muslim mill owner who has left three widows behind. But as Perveen is going through the paperwork, she notices something strange: all three of the wives have signed over their full inheritance to a charity. What will they live on if they forfeit what their husband left them? Perveen is suspicious, especially since one of the widows has signed her form with an X--meaning she probably couldn\\'t even read the document. The Farid widows live in full purdah--in strict seclusion, never leaving the women\\'s quarters or speaking to any men. Are they being taken advantage of by an unscrupulous guardian? Perveen tries to investigate, and realizes her instincts about the will were correct when tensions escalate to murder. Now it is her responsibility to figure out what really happened on Malabar Hill, and to ensure that no innocent women or children are in further danger.\"--', 'notes': None, 'key': '/works/OL19729016W', 'authors': [{'author': {'key': '/authors/OL39452A'}, 'type': {'key': '/type/author_role'}}], 'title': 'The Widows of Malabar Hill', 'subject_places': ['India', 'Mumbai (India)'], 'subjects': ['Detective and mystery stories', 'Women lawyers', 'Fiction', 'Fiction, mystery & detective, historical', 'Fiction, legal', 'Widows, fiction', 'Historical fiction', 'Mystery & Detective', 'Traditional British', 'Historical'], 'type': {'key': '/type/work'}, 'latest_revision': 4, 'revision': 4, 'created': {'type': '/type/datetime', 'value': '2019-05-24T02:38:29.131090'}, 'last_modified': {'type': '/type/datetime', 'value': '2023-01-09T04:49:33.896561'}}>\n"
     ]
    }
   ],
   "source": [
    "# See all available book information\n",
    "\n",
    "print(temp_book_record)"
   ]
  },
  {
   "cell_type": "code",
   "execution_count": 10,
   "id": "a8248425-414f-4693-8379-f1d64ff8fd69",
   "metadata": {},
   "outputs": [],
   "source": [
    "# Load example list of book titles and authors in a .csv file\n",
    "\n",
    "sample_data = pd.read_csv('sample.csv')"
   ]
  },
  {
   "cell_type": "code",
   "execution_count": 11,
   "id": "b5ba9ea8-269d-47da-8da2-53f6f68cbe47",
   "metadata": {},
   "outputs": [
    {
     "data": {
      "text/html": [
       "<div>\n",
       "<style scoped>\n",
       "    .dataframe tbody tr th:only-of-type {\n",
       "        vertical-align: middle;\n",
       "    }\n",
       "\n",
       "    .dataframe tbody tr th {\n",
       "        vertical-align: top;\n",
       "    }\n",
       "\n",
       "    .dataframe thead th {\n",
       "        text-align: right;\n",
       "    }\n",
       "</style>\n",
       "<table border=\"1\" class=\"dataframe\">\n",
       "  <thead>\n",
       "    <tr style=\"text-align: right;\">\n",
       "      <th></th>\n",
       "      <th>Title</th>\n",
       "      <th>Author</th>\n",
       "    </tr>\n",
       "  </thead>\n",
       "  <tbody>\n",
       "    <tr>\n",
       "      <th>0</th>\n",
       "      <td>The Ghost Map</td>\n",
       "      <td>Steven Johnson</td>\n",
       "    </tr>\n",
       "    <tr>\n",
       "      <th>1</th>\n",
       "      <td>The Gods Themselves</td>\n",
       "      <td>Isaac Asimov</td>\n",
       "    </tr>\n",
       "    <tr>\n",
       "      <th>2</th>\n",
       "      <td>Running Wild</td>\n",
       "      <td>Lucy Jane Bledsoe</td>\n",
       "    </tr>\n",
       "    <tr>\n",
       "      <th>3</th>\n",
       "      <td>Code Name Edelweiss</td>\n",
       "      <td>Stephanie Landsem</td>\n",
       "    </tr>\n",
       "    <tr>\n",
       "      <th>4</th>\n",
       "      <td>The Maid</td>\n",
       "      <td>Nita Prose</td>\n",
       "    </tr>\n",
       "    <tr>\n",
       "      <th>5</th>\n",
       "      <td>Rebecca</td>\n",
       "      <td>Stephanie Du Maurier</td>\n",
       "    </tr>\n",
       "  </tbody>\n",
       "</table>\n",
       "</div>"
      ],
      "text/plain": [
       "                 Title                Author\n",
       "0        The Ghost Map        Steven Johnson\n",
       "1  The Gods Themselves          Isaac Asimov\n",
       "2         Running Wild     Lucy Jane Bledsoe\n",
       "3  Code Name Edelweiss     Stephanie Landsem\n",
       "4             The Maid            Nita Prose\n",
       "5              Rebecca  Stephanie Du Maurier"
      ]
     },
     "execution_count": 11,
     "metadata": {},
     "output_type": "execute_result"
    }
   ],
   "source": [
    "sample_data"
   ]
  },
  {
   "cell_type": "code",
   "execution_count": 13,
   "id": "12d6a7ec-0f95-445a-b1bd-c7fca1288709",
   "metadata": {},
   "outputs": [],
   "source": [
    "# Make a new \"dictionary\" to receive information fetched from Open Library\n",
    "# Note: clear out this dictionary by re-running this code block, when re-running the loop below that retrieves OL data\n",
    "\n",
    "new_dict = {'OL_olid' : [], \n",
    "            'OL_title' : [],\n",
    "            'OL_author_id' : [], \n",
    "            'OL_author' : [], \n",
    "            'OL_subjects' : [] }"
   ]
  },
  {
   "cell_type": "code",
   "execution_count": 14,
   "id": "2b6efb8d-bee5-458a-9656-05f4b9bec2ac",
   "metadata": {},
   "outputs": [],
   "source": [
    "# Loop through each book and retrieve information from Open Library\n",
    "# Remember to start with an empty dictionary, otherwise unnecessary information could be appended\n",
    "\n",
    "for i in range(0, len(sample_data)):                                                      #for all rows in book dataset\n",
    "    search_result = ol.Work.search(title=sample_data.Title[i], author=sample_data.Author[i])   #fetch the title and author\n",
    "\n",
    "    if (search_result is None) == True:                                             #if title and author combination can't be found\n",
    "        search_result_2 = ol.Work.search(title=sample_data.Title[i])                      #try just the title (sometimes no author listed)\n",
    "\n",
    "        if (search_result_2 is None) == True:                                       #if still can't find just the book title\n",
    "            new_dict['OL_olid'].append(None)                                        #paste \"none\" in the dictionary, in all columns\n",
    "            new_dict['OL_title'].append(None)\n",
    "            new_dict['OL_author_id'].append(None)\n",
    "            new_dict['OL_author'].append(None)\n",
    "            new_dict['OL_subjects'].append(None)\n",
    "\n",
    "        else:                                                                       #if book title found\n",
    "            search_olid = ''.join(search_result_2.identifiers.get('olid'))          #get the book title's Open Library ID   \n",
    "            new_dict['OL_olid'].append(search_olid)                                 #paste the ID in my dictionary\n",
    "            \n",
    "            olid_info = ol.Work.get(search_olid)                                    #get Open Library data associated with that ID\n",
    "\n",
    "            if hasattr(olid_info, 'title') == True:                                 #if Open Library data includes the book title\n",
    "                new_dict['OL_title'].append(olid_info.title)                        #paste that book title in my dictionary, to check later\n",
    "            else:                                                                   #if Open Library data does not include the book title\n",
    "                new_dict['OL_title'].append(None)                                   #paste \"none\" in my dictionary\n",
    "\n",
    "            if hasattr(olid_info, 'authors') == True:                               #if Open Library data includes author info\n",
    "                authorID = re.sub(r'/authors/', r'', olid_info.authors[0].get('author').get('key'))      #get the author's Open Library ID\n",
    "                new_dict['OL_author_id'].append(authorID)                           #paste author's Open Library ID in my dictionary\n",
    "                authorName = ol.Author.get(authorID).name                           #get name associated with author's Open Library ID\n",
    "                new_dict['OL_author'].append(authorName)                            #paste author's name in my dictionary\n",
    "            else:                                                                   #if Open Library data doesn't include author info\n",
    "                new_dict['OL_author_id'].append(None)                               #paste \"none\" in my dictionary\n",
    "                new_dict['OL_author'].append(None)\n",
    "\n",
    "            if hasattr(olid_info, 'subjects') == True:                              #if Open Library data includes subject info\n",
    "                new_dict['OL_subjects'].append(olid_info.subjects)                  #paste subject info in my dictionary \n",
    "            else:                                                                   #if Open Library data doesn't include subject info\n",
    "                new_dict['OL_subjects'].append(None)                                #paste \"none\" in my dictionary\n",
    "\n",
    "    else:                                                                           #first attempt at finding title & author combo succeeds\n",
    "        search_olid = ''.join(search_result.identifiers.get('olid'))                #same process as above, once book title is found\n",
    "        new_dict['OL_olid'].append(search_olid)                                     \n",
    "\n",
    "        olid_info = ol.Work.get(search_olid)                                        \n",
    "\n",
    "        if hasattr(olid_info, 'title') == True:                                     \n",
    "            new_dict['OL_title'].append(olid_info.title)\n",
    "        else:\n",
    "            new_dict['OL_title'].append(None)\n",
    "\n",
    "        if hasattr(olid_info, 'authors') == True:\n",
    "            authorID = re.sub(r'/authors/', r'', olid_info.authors[0].get('author').get('key'))\n",
    "            new_dict['OL_author_id'].append(authorID)\n",
    "            authorName = ol.Author.get(authorID).name\n",
    "            new_dict['OL_author'].append(authorName)\n",
    "        else:\n",
    "            new_dict['OL_author_id'].append(None)\n",
    "            new_dict['OL_author'].append(None)\n",
    "        \n",
    "        if hasattr(olid_info, 'subjects') == True:\n",
    "            new_dict['OL_subjects'].append(olid_info.subjects)\n",
    "        else:\n",
    "            new_dict['OL_subjects'].append(None)\n",
    "            "
   ]
  },
  {
   "cell_type": "code",
   "execution_count": 15,
   "id": "3dbd1d1e-b7fc-4fd4-8b0b-98be724f5909",
   "metadata": {},
   "outputs": [],
   "source": [
    "# Make new dictionary into dataframe\n",
    "\n",
    "new_df = pd.DataFrame.from_dict(new_dict)"
   ]
  },
  {
   "cell_type": "code",
   "execution_count": 16,
   "id": "ee74b78c-f26a-4658-b488-4dc21cbc0e19",
   "metadata": {},
   "outputs": [
    {
     "data": {
      "text/html": [
       "<div>\n",
       "<style scoped>\n",
       "    .dataframe tbody tr th:only-of-type {\n",
       "        vertical-align: middle;\n",
       "    }\n",
       "\n",
       "    .dataframe tbody tr th {\n",
       "        vertical-align: top;\n",
       "    }\n",
       "\n",
       "    .dataframe thead th {\n",
       "        text-align: right;\n",
       "    }\n",
       "</style>\n",
       "<table border=\"1\" class=\"dataframe\">\n",
       "  <thead>\n",
       "    <tr style=\"text-align: right;\">\n",
       "      <th></th>\n",
       "      <th>OL_olid</th>\n",
       "      <th>OL_title</th>\n",
       "      <th>OL_author_id</th>\n",
       "      <th>OL_author</th>\n",
       "      <th>OL_subjects</th>\n",
       "    </tr>\n",
       "  </thead>\n",
       "  <tbody>\n",
       "    <tr>\n",
       "      <th>0</th>\n",
       "      <td>OL2668651W</td>\n",
       "      <td>The Ghost Map</td>\n",
       "      <td>OL389304A</td>\n",
       "      <td>Steven Johnson</td>\n",
       "      <td>[Physicians, Epidemics, Cholera, Medical, Hist...</td>\n",
       "    </tr>\n",
       "    <tr>\n",
       "      <th>1</th>\n",
       "      <td>OL46395W</td>\n",
       "      <td>The Gods Themselves</td>\n",
       "      <td>OL34221A</td>\n",
       "      <td>Isaac Asimov</td>\n",
       "      <td>[Fiction in English, Hugo Award Winner, award:...</td>\n",
       "    </tr>\n",
       "    <tr>\n",
       "      <th>2</th>\n",
       "      <td>OL20453834W</td>\n",
       "      <td>Running Wild</td>\n",
       "      <td>OL444181A</td>\n",
       "      <td>Lucy Jane Bledsoe</td>\n",
       "      <td>[Children's fiction, Fathers and daughters, fi...</td>\n",
       "    </tr>\n",
       "    <tr>\n",
       "      <th>3</th>\n",
       "      <td>OL28406392W</td>\n",
       "      <td>Code Name Edelweiss</td>\n",
       "      <td>OL7146199A</td>\n",
       "      <td>Stephanie Landsem</td>\n",
       "      <td>None</td>\n",
       "    </tr>\n",
       "    <tr>\n",
       "      <th>4</th>\n",
       "      <td>OL24554831W</td>\n",
       "      <td>The Maid</td>\n",
       "      <td>OL9251784A</td>\n",
       "      <td>Nita Prose</td>\n",
       "      <td>[English literature, nyt:combined-print-and-e-...</td>\n",
       "    </tr>\n",
       "    <tr>\n",
       "      <th>5</th>\n",
       "      <td>OL36633W</td>\n",
       "      <td>Rebecca</td>\n",
       "      <td>OL34047A</td>\n",
       "      <td>Daphne du Maurier</td>\n",
       "      <td>[Married women, Cornwall (England : County), R...</td>\n",
       "    </tr>\n",
       "  </tbody>\n",
       "</table>\n",
       "</div>"
      ],
      "text/plain": [
       "       OL_olid             OL_title OL_author_id          OL_author  \\\n",
       "0   OL2668651W        The Ghost Map    OL389304A     Steven Johnson   \n",
       "1     OL46395W  The Gods Themselves     OL34221A       Isaac Asimov   \n",
       "2  OL20453834W         Running Wild    OL444181A  Lucy Jane Bledsoe   \n",
       "3  OL28406392W  Code Name Edelweiss   OL7146199A  Stephanie Landsem   \n",
       "4  OL24554831W             The Maid   OL9251784A         Nita Prose   \n",
       "5     OL36633W              Rebecca     OL34047A  Daphne du Maurier   \n",
       "\n",
       "                                         OL_subjects  \n",
       "0  [Physicians, Epidemics, Cholera, Medical, Hist...  \n",
       "1  [Fiction in English, Hugo Award Winner, award:...  \n",
       "2  [Children's fiction, Fathers and daughters, fi...  \n",
       "3                                               None  \n",
       "4  [English literature, nyt:combined-print-and-e-...  \n",
       "5  [Married women, Cornwall (England : County), R...  "
      ]
     },
     "execution_count": 16,
     "metadata": {},
     "output_type": "execute_result"
    }
   ],
   "source": [
    "new_df"
   ]
  },
  {
   "cell_type": "code",
   "execution_count": 17,
   "id": "64dbf699-cd43-4fe9-b474-00e93d2b4dec",
   "metadata": {},
   "outputs": [],
   "source": [
    "# Append OL data to original list of titles and authors, to check if matches are correct\n",
    "\n",
    "combined_data = pd.concat([sample_data, new_df], axis = 1)"
   ]
  },
  {
   "cell_type": "code",
   "execution_count": 18,
   "id": "c016640f-698a-4e58-8db8-43cbe95fb9f2",
   "metadata": {},
   "outputs": [
    {
     "data": {
      "text/html": [
       "<div>\n",
       "<style scoped>\n",
       "    .dataframe tbody tr th:only-of-type {\n",
       "        vertical-align: middle;\n",
       "    }\n",
       "\n",
       "    .dataframe tbody tr th {\n",
       "        vertical-align: top;\n",
       "    }\n",
       "\n",
       "    .dataframe thead th {\n",
       "        text-align: right;\n",
       "    }\n",
       "</style>\n",
       "<table border=\"1\" class=\"dataframe\">\n",
       "  <thead>\n",
       "    <tr style=\"text-align: right;\">\n",
       "      <th></th>\n",
       "      <th>Title</th>\n",
       "      <th>Author</th>\n",
       "      <th>OL_olid</th>\n",
       "      <th>OL_title</th>\n",
       "      <th>OL_author_id</th>\n",
       "      <th>OL_author</th>\n",
       "      <th>OL_subjects</th>\n",
       "    </tr>\n",
       "  </thead>\n",
       "  <tbody>\n",
       "    <tr>\n",
       "      <th>0</th>\n",
       "      <td>The Ghost Map</td>\n",
       "      <td>Steven Johnson</td>\n",
       "      <td>OL2668651W</td>\n",
       "      <td>The Ghost Map</td>\n",
       "      <td>OL389304A</td>\n",
       "      <td>Steven Johnson</td>\n",
       "      <td>[Physicians, Epidemics, Cholera, Medical, Hist...</td>\n",
       "    </tr>\n",
       "    <tr>\n",
       "      <th>1</th>\n",
       "      <td>The Gods Themselves</td>\n",
       "      <td>Isaac Asimov</td>\n",
       "      <td>OL46395W</td>\n",
       "      <td>The Gods Themselves</td>\n",
       "      <td>OL34221A</td>\n",
       "      <td>Isaac Asimov</td>\n",
       "      <td>[Fiction in English, Hugo Award Winner, award:...</td>\n",
       "    </tr>\n",
       "    <tr>\n",
       "      <th>2</th>\n",
       "      <td>Running Wild</td>\n",
       "      <td>Lucy Jane Bledsoe</td>\n",
       "      <td>OL20453834W</td>\n",
       "      <td>Running Wild</td>\n",
       "      <td>OL444181A</td>\n",
       "      <td>Lucy Jane Bledsoe</td>\n",
       "      <td>[Children's fiction, Fathers and daughters, fi...</td>\n",
       "    </tr>\n",
       "    <tr>\n",
       "      <th>3</th>\n",
       "      <td>Code Name Edelweiss</td>\n",
       "      <td>Stephanie Landsem</td>\n",
       "      <td>OL28406392W</td>\n",
       "      <td>Code Name Edelweiss</td>\n",
       "      <td>OL7146199A</td>\n",
       "      <td>Stephanie Landsem</td>\n",
       "      <td>None</td>\n",
       "    </tr>\n",
       "    <tr>\n",
       "      <th>4</th>\n",
       "      <td>The Maid</td>\n",
       "      <td>Nita Prose</td>\n",
       "      <td>OL24554831W</td>\n",
       "      <td>The Maid</td>\n",
       "      <td>OL9251784A</td>\n",
       "      <td>Nita Prose</td>\n",
       "      <td>[English literature, nyt:combined-print-and-e-...</td>\n",
       "    </tr>\n",
       "    <tr>\n",
       "      <th>5</th>\n",
       "      <td>Rebecca</td>\n",
       "      <td>Stephanie Du Maurier</td>\n",
       "      <td>OL36633W</td>\n",
       "      <td>Rebecca</td>\n",
       "      <td>OL34047A</td>\n",
       "      <td>Daphne du Maurier</td>\n",
       "      <td>[Married women, Cornwall (England : County), R...</td>\n",
       "    </tr>\n",
       "  </tbody>\n",
       "</table>\n",
       "</div>"
      ],
      "text/plain": [
       "                 Title                Author      OL_olid  \\\n",
       "0        The Ghost Map        Steven Johnson   OL2668651W   \n",
       "1  The Gods Themselves          Isaac Asimov     OL46395W   \n",
       "2         Running Wild     Lucy Jane Bledsoe  OL20453834W   \n",
       "3  Code Name Edelweiss     Stephanie Landsem  OL28406392W   \n",
       "4             The Maid            Nita Prose  OL24554831W   \n",
       "5              Rebecca  Stephanie Du Maurier     OL36633W   \n",
       "\n",
       "              OL_title OL_author_id          OL_author  \\\n",
       "0        The Ghost Map    OL389304A     Steven Johnson   \n",
       "1  The Gods Themselves     OL34221A       Isaac Asimov   \n",
       "2         Running Wild    OL444181A  Lucy Jane Bledsoe   \n",
       "3  Code Name Edelweiss   OL7146199A  Stephanie Landsem   \n",
       "4             The Maid   OL9251784A         Nita Prose   \n",
       "5              Rebecca     OL34047A  Daphne du Maurier   \n",
       "\n",
       "                                         OL_subjects  \n",
       "0  [Physicians, Epidemics, Cholera, Medical, Hist...  \n",
       "1  [Fiction in English, Hugo Award Winner, award:...  \n",
       "2  [Children's fiction, Fathers and daughters, fi...  \n",
       "3                                               None  \n",
       "4  [English literature, nyt:combined-print-and-e-...  \n",
       "5  [Married women, Cornwall (England : County), R...  "
      ]
     },
     "execution_count": 18,
     "metadata": {},
     "output_type": "execute_result"
    }
   ],
   "source": [
    "combined_data"
   ]
  },
  {
   "cell_type": "code",
   "execution_count": 20,
   "id": "d9c36018-56aa-4d39-acad-44e7d19cbded",
   "metadata": {},
   "outputs": [],
   "source": [
    "# Export as csv\n",
    "\n",
    "combined_data.to_csv(\"combined_data.csv\")"
   ]
  },
  {
   "cell_type": "code",
   "execution_count": 21,
   "id": "da7f852b-ff0d-43e3-a976-dda890cb777e",
   "metadata": {},
   "outputs": [],
   "source": [
    "# Note that not all books have all information available"
   ]
  }
 ],
 "metadata": {
  "kernelspec": {
   "display_name": "Python 3 (ipykernel)",
   "language": "python",
   "name": "python3"
  },
  "language_info": {
   "codemirror_mode": {
    "name": "ipython",
    "version": 3
   },
   "file_extension": ".py",
   "mimetype": "text/x-python",
   "name": "python",
   "nbconvert_exporter": "python",
   "pygments_lexer": "ipython3",
   "version": "3.12.2"
  }
 },
 "nbformat": 4,
 "nbformat_minor": 5
}
